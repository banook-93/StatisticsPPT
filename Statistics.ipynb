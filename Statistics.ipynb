{
 "cells": [
  {
   "cell_type": "markdown",
   "metadata": {},
   "source": [
    "# Statistics Question 1:"
   ]
  },
  {
   "cell_type": "code",
   "execution_count": 1,
   "metadata": {},
   "outputs": [
    {
     "name": "stdout",
     "output_type": "stream",
     "text": [
      "Correlation coefficient: 0.9195658443750152\n"
     ]
    }
   ],
   "source": [
    "import numpy as np\n",
    "\n",
    "# Sample data\n",
    "sat_scores = [1200, 1350, 1500, 1100, 1400]  \n",
    "college_gpa = [3.2, 3.5, 3.7, 2.8, 3.9]\n",
    "\n",
    "#correlation coefficient\n",
    "correlation_coef = np.corrcoef(sat_scores, college_gpa)[0, 1]\n",
    "\n",
    "# Printing the correlation coefficient\n",
    "print(\"Correlation coefficient:\", correlation_coef)\n"
   ]
  },
  {
   "cell_type": "markdown",
   "metadata": {},
   "source": [
    "# Statistics Question 2: "
   ]
  },
  {
   "cell_type": "code",
   "execution_count": 2,
   "metadata": {},
   "outputs": [
    {
     "name": "stdout",
     "output_type": "stream",
     "text": [
      "Percentage of individuals with heights between 160 cm and 180 cm: 68.26894921370858\n",
      "Probability that the average height of 100 individuals is greater than 175 cm: 2.866515719235352e-07\n",
      "Z-score corresponding to a height of 185 cm: 1.5\n",
      "Approximate height corresponding to the 5th percentile: 153.55146373048527\n",
      "Coefficient of Variation (CV) for the dataset: 5.88235294117647\n",
      "Skewness of the dataset: 0\n"
     ]
    }
   ],
   "source": [
    "import scipy.stats as stats\n",
    "\n",
    "# Given information\n",
    "mean_height = 170\n",
    "std_dev = 10\n",
    "\n",
    "# a. Percentage of individuals with heights between 160 cm and 180 cm\n",
    "z1 = (160 - mean_height) / std_dev\n",
    "z2 = (180 - mean_height) / std_dev\n",
    "percentage_between_160_180 = stats.norm.cdf(z2) - stats.norm.cdf(z1)\n",
    "percentage_between_160_180 *= 100\n",
    "print(\"Percentage of individuals with heights between 160 cm and 180 cm:\", percentage_between_160_180)\n",
    "\n",
    "# b. Probability that the average height of a random sample of 100 individuals is greater than 175 cm\n",
    "sample_size = 100\n",
    "sample_mean = mean_height\n",
    "sample_std_dev = std_dev / (sample_size ** 0.5)\n",
    "z = (175 - sample_mean) / sample_std_dev\n",
    "probability_greater_than_175 = 1 - stats.norm.cdf(z)\n",
    "print(\"Probability that the average height of 100 individuals is greater than 175 cm:\", probability_greater_than_175)\n",
    "\n",
    "# c. Z-score corresponding to a height of 185 cm\n",
    "height = 185\n",
    "z_score = (height - mean_height) / std_dev\n",
    "print(\"Z-score corresponding to a height of 185 cm:\", z_score)\n",
    "\n",
    "# d. Approximate height corresponding to the 5th percentile\n",
    "threshold_percentile = 0.05\n",
    "threshold_height = stats.norm.ppf(threshold_percentile, mean_height, std_dev)\n",
    "print(\"Approximate height corresponding to the 5th percentile:\", threshold_height)\n",
    "\n",
    "# e. Coefficient of Variation (CV)\n",
    "cv = (std_dev / mean_height) * 100\n",
    "print(\"Coefficient of Variation (CV) for the dataset:\", cv)\n",
    "\n",
    "# f. Skewness of the dataset\n",
    "skewness = 0  # Given that the skewness is approximately zero\n",
    "print(\"Skewness of the dataset:\", skewness)\n"
   ]
  },
  {
   "cell_type": "markdown",
   "metadata": {},
   "source": [
    "# Statistics Question 4:"
   ]
  },
  {
   "cell_type": "code",
   "execution_count": 5,
   "metadata": {},
   "outputs": [
    {
     "name": "stdout",
     "output_type": "stream",
     "text": [
      "Probability: 0.2\n"
     ]
    }
   ],
   "source": [
    "total_friends = 20\n",
    "perfect_squares = [1, 4, 9, 16]\n",
    "\n",
    "count_perfect_squares = 0\n",
    "\n",
    "# Count the number of perfect squares among the slips drawn\n",
    "for number in range(1, total_friends + 1):\n",
    "    if number in perfect_squares:\n",
    "        count_perfect_squares += 1\n",
    "\n",
    "probability = count_perfect_squares / total_friends\n",
    "\n",
    "print(\"Probability:\", probability)\n"
   ]
  },
  {
   "cell_type": "markdown",
   "metadata": {},
   "source": [
    "# Statistics Question 5:"
   ]
  },
  {
   "cell_type": "code",
   "execution_count": 1,
   "metadata": {},
   "outputs": [
    {
     "name": "stdout",
     "output_type": "stream",
     "text": [
      "The probability that the late taxi belongs to Company A is: 0.6666666666666667\n"
     ]
    }
   ],
   "source": [
    "P_A = 0.8\n",
    "P_B_given_A = 0.05\n",
    "P_B_given_not_A = 0.1\n",
    "P_not_A = 1 - P_A\n",
    "\n",
    "P_B = P_B_given_A * P_A + P_B_given_not_A * P_not_A\n",
    "P_A_given_B = (P_B_given_A * P_A) / P_B\n",
    "\n",
    "print(\"The probability that the late taxi belongs to Company A is:\", P_A_given_B)\n"
   ]
  },
  {
   "cell_type": "markdown",
   "metadata": {},
   "source": [
    "# Statistics Question 6:"
   ]
  },
  {
   "cell_type": "code",
   "execution_count": 2,
   "metadata": {},
   "outputs": [
    {
     "name": "stdout",
     "output_type": "stream",
     "text": [
      "a. Variance of Y: [ 58.24245953  29.26044962 104.49709085]\n",
      "b. Coefficient of determination of X and Y: [0.93573519 0.87973704 0.96313265]\n",
      "c. Standard error of estimate of X on Y and Y on X: [1.93466812 1.87588597 1.96278644]\n"
     ]
    }
   ],
   "source": [
    "import numpy as np\n",
    "\n",
    "def solve_regression_equations():\n",
    "    # Given equations of regression lines\n",
    "    equation1 = lambda X: 2*X + 3 - 8\n",
    "    equation2 = lambda X: 2*X + X - 5\n",
    "\n",
    "    # Solving the equations to find alpha (α) and beta (β)\n",
    "    alpha = np.roots([3, -16, 0, 10])  # Solving Equation 5\n",
    "    beta = (8 - 3*alpha) / 2\n",
    "\n",
    "    return alpha, beta\n",
    "\n",
    "def calculate_variance_Y(variance_X, alpha, beta):\n",
    "    # Calculating variance of Y using the formula: Variance(Y) = beta^2 * Variance(X)\n",
    "    variance_Y = (beta**2) * variance_X\n",
    "\n",
    "    return variance_Y\n",
    "\n",
    "def calculate_coefficient_determination(alpha, beta):\n",
    "    # Coefficient of determination (R^2) is the square of the correlation coefficient (r)\n",
    "    # R^2 = r^2 = (beta^2 * variance(X)) / (variance(Y))\n",
    "    R_squared = (beta**2) / (1 + beta**2)\n",
    "\n",
    "    return R_squared\n",
    "\n",
    "def calculate_standard_error_estimate(alpha, beta, variance_X):\n",
    "    # Standard Error of Estimate (SEE) for X on Y and Y on X are the same\n",
    "    # SEE = sqrt((1 - R^2) * variance(Y))\n",
    "    R_squared = calculate_coefficient_determination(alpha, beta)\n",
    "    variance_Y = beta**2 * variance_X\n",
    "    SEE = np.sqrt((1 - R_squared) * variance_Y)\n",
    "\n",
    "    return SEE\n",
    "\n",
    "# Given information\n",
    "variance_X = 4\n",
    "\n",
    "# Solving regression equations\n",
    "alpha, beta = solve_regression_equations()\n",
    "\n",
    "# Calculating variance of Y\n",
    "variance_Y = calculate_variance_Y(variance_X, alpha, beta)\n",
    "print(\"a. Variance of Y:\", variance_Y)\n",
    "\n",
    "# Calculating coefficient of determination of X and Y\n",
    "R_squared = calculate_coefficient_determination(alpha, beta)\n",
    "print(\"b. Coefficient of determination of X and Y:\", R_squared)\n",
    "\n",
    "# Calculating standard error of estimate of X on Y and Y on X\n",
    "SEE = calculate_standard_error_estimate(alpha, beta, variance_X)\n",
    "print(\"c. Standard error of estimate of X on Y and Y on X:\", SEE)\n"
   ]
  },
  {
   "cell_type": "code",
   "execution_count": 4,
   "metadata": {},
   "outputs": [
    {
     "name": "stdout",
     "output_type": "stream",
     "text": [
      "Reinitialized existing Git repository in C:/Users/Microsoft/Desktop/Untitled Folder 2/.git/\n"
     ]
    },
    {
     "name": "stderr",
     "output_type": "stream",
     "text": [
      "warning: in the working copy of '.ipynb_checkpoints/Statistics-checkpoint.ipynb', LF will be replaced by CRLF the next time Git touches it\n",
      "warning: in the working copy of 'Statistics.ipynb', LF will be replaced by CRLF the next time Git touches it\n"
     ]
    },
    {
     "name": "stdout",
     "output_type": "stream",
     "text": [
      "[master c5aaef5] Initial commit\n",
      " 2 files changed, 100 insertions(+), 6 deletions(-)\n"
     ]
    },
    {
     "name": "stderr",
     "output_type": "stream",
     "text": [
      "error: remote origin already exists.\n",
      "To https://github.com/banook-93/PPT-python-assignments.git\n",
      " ! [rejected]        master -> master (fetch first)\n",
      "error: failed to push some refs to 'https://github.com/banook-93/PPT-python-assignments.git'\n",
      "hint: Updates were rejected because the remote contains work that you do\n",
      "hint: not have locally. This is usually caused by another repository pushing\n",
      "hint: to the same ref. You may want to first integrate the remote changes\n",
      "hint: (e.g., 'git pull ...') before pushing again.\n",
      "hint: See the 'Note about fast-forwards' in 'git push --help' for details.\n"
     ]
    }
   ],
   "source": [
    "!git config --global user.email \"tjb5561@hotmail.com\"\n",
    "!git config --global user.name \"banook-93\"\n",
    "\n",
    "\n",
    "!git init\n",
    "!git add .\n",
    "\n",
    "# Commit the changes\n",
    "!git commit -m \"Initial commit\"\n",
    "\n",
    "!git remote add origin https://github.com/banook-93/StatisticsPPT\n",
    "\n",
    "# Pushing the code to the remote repository\n",
    "!git push origin master"
   ]
  },
  {
   "cell_type": "code",
   "execution_count": null,
   "metadata": {},
   "outputs": [],
   "source": []
  }
 ],
 "metadata": {
  "kernelspec": {
   "display_name": "Python 3",
   "language": "python",
   "name": "python3"
  },
  "language_info": {
   "codemirror_mode": {
    "name": "ipython",
    "version": 3
   },
   "file_extension": ".py",
   "mimetype": "text/x-python",
   "name": "python",
   "nbconvert_exporter": "python",
   "pygments_lexer": "ipython3",
   "version": "3.8.5"
  }
 },
 "nbformat": 4,
 "nbformat_minor": 4
}
